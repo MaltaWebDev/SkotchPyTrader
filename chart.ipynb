{
 "cells": [
  {
   "cell_type": "code",
   "execution_count": 3,
   "metadata": {},
   "outputs": [],
   "source": [
    "import sqlalchemy\n",
    "import pandas as pd\n",
    "import yfinance as yf\n",
    "import plotly.graph_objects as go\n",
    "from datetime import datetime"
   ]
  },
  {
   "cell_type": "code",
   "execution_count": 96,
   "metadata": {},
   "outputs": [],
   "source": [
    "def get_intraday(tickers):\n",
    "  data = []\n",
    "  for ticker in tickers:\n",
    "    data.append(yf.download(ticker, period='1d', interval='5m').reset_index())\n",
    "  return data"
   ]
  },
  {
   "cell_type": "code",
   "execution_count": 97,
   "metadata": {},
   "outputs": [
    {
     "name": "stdout",
     "output_type": "stream",
     "text": [
      "[*********************100%***********************]  1 of 1 completed\n"
     ]
    }
   ],
   "source": [
    "df = get_intraday(['PLTR'])"
   ]
  },
  {
   "cell_type": "code",
   "execution_count": 98,
   "metadata": {},
   "outputs": [],
   "source": [
    "# print(df)"
   ]
  },
  {
   "cell_type": "code",
   "execution_count": null,
   "metadata": {},
   "outputs": [],
   "source": [
    "# create a candlestick chart from the dataframe\n",
    "fig = go.Figure(data=[go.Candlestick(x=df[0]['Datetime'],\n",
    "                open=df[0]['Open'],\n",
    "                high=df[0]['High'],\n",
    "                low=df[0]['Low'],\n",
    "                close=df[0]['Close'],\n",
    "                increasing_line_color= 'cyan', \n",
    "                decreasing_line_color= 'gray'\n",
    "                )])\n",
    "\n",
    "#add 20EMA to chart\n",
    "fig.add_trace(go.Scatter(x=df[0]['Datetime'], y=df[0]['Close'].ewm(span=20, adjust=False).mean(), line=dict(color='blue', width=1), name='20EMA'))\n",
    "\n",
    "fig.show()"
   ]
  },
  {
   "cell_type": "code",
   "execution_count": null,
   "metadata": {},
   "outputs": [],
   "source": []
  }
 ],
 "metadata": {
  "kernelspec": {
   "display_name": "Python 3.10.5 64-bit",
   "language": "python",
   "name": "python3"
  },
  "language_info": {
   "codemirror_mode": {
    "name": "ipython",
    "version": 3
   },
   "file_extension": ".py",
   "mimetype": "text/x-python",
   "name": "python",
   "nbconvert_exporter": "python",
   "pygments_lexer": "ipython3",
   "version": "3.10.5"
  },
  "orig_nbformat": 4,
  "vscode": {
   "interpreter": {
    "hash": "9d39a08899571ba495776a8537b8598efde06d5ac0ba925cf4cc1f28231e78fc"
   }
  }
 },
 "nbformat": 4,
 "nbformat_minor": 2
}
